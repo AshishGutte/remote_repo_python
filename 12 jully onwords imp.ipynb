{
 "cells": [
  {
   "cell_type": "code",
   "execution_count": null,
   "metadata": {},
   "outputs": [],
   "source": [
    "numbers = [4, 2, 9, 1, 5, 6]\n",
    "sorted_numbers = sorted(numbers)\n",
    "print(sorted_numbers)  # Output: [1, 2, 4, 5, 6, 9]\n",
    "\n",
    "\n",
    "numbers = [4, 2, 9, 1, 5, 6]\n",
    "sorted_numbers_desc = sorted(numbers, reverse=True)\n",
    "print(sorted_numbers_desc)  # Output: [9, 6, 5, 4, 2, 1]\n"
   ]
  },
  {
   "cell_type": "code",
   "execution_count": 1,
   "metadata": {},
   "outputs": [
    {
     "name": "stdout",
     "output_type": "stream",
     "text": [
      "[(2, 5), (4, 3), (3, 4), (-2, 9)]\n"
     ]
    }
   ],
   "source": [
    "n = [2,4,3,5,6,-2,4,7,8,9]\n",
    "m =[]\n",
    "l  = len(n)\n",
    "\n",
    "for i in range(l):                      # runs l times.\n",
    "    for j in range(i+1,l):              #runs l times for each iteration of the outer loop.\n",
    "        if n[i] + n[j] == 7 :\n",
    "         m.append((n[i],n[j]))\n",
    "print(m)\n",
    "\n",
    "\n"
   ]
  },
  {
   "cell_type": "code",
   "execution_count": 2,
   "metadata": {},
   "outputs": [
    {
     "name": "stdout",
     "output_type": "stream",
     "text": [
      "You entered: \n"
     ]
    },
    {
     "ename": "TypeError",
     "evalue": "'NoneType' object is not iterable",
     "output_type": "error",
     "traceback": [
      "\u001b[1;31m---------------------------------------------------------------------------\u001b[0m",
      "\u001b[1;31mTypeError\u001b[0m                                 Traceback (most recent call last)",
      "Cell \u001b[1;32mIn[2], line 11\u001b[0m\n\u001b[0;32m      8\u001b[0m      d \u001b[38;5;241m=\u001b[39mchars\u001b[38;5;241m.\u001b[39mappend(char)\n\u001b[0;32m     10\u001b[0m \u001b[38;5;28mprint\u001b[39m(\u001b[38;5;124m\"\u001b[39m\u001b[38;5;124mYou entered: \u001b[39m\u001b[38;5;124m\"\u001b[39m)\n\u001b[1;32m---> 11\u001b[0m \u001b[38;5;28;01mfor\u001b[39;00m c \u001b[38;5;129;01min\u001b[39;00m d:\n\u001b[0;32m     12\u001b[0m     \u001b[38;5;28mprint\u001b[39m(c)\n",
      "\u001b[1;31mTypeError\u001b[0m: 'NoneType' object is not iterable"
     ]
    }
   ],
   "source": [
    "input(\"Enter the line of input(type 'END' to stop ) : \")\n",
    "chars = []\n",
    "while True:\n",
    "    char=input()\n",
    "    if char ==\"END\":\n",
    "        break\n",
    "    else:\n",
    "     d =chars.append(char)\n",
    "\n",
    "print(\"You entered: \")\n",
    "for c in d:\n",
    "    print(c)"
   ]
  },
  {
   "cell_type": "code",
   "execution_count": 2,
   "metadata": {},
   "outputs": [
    {
     "name": "stdout",
     "output_type": "stream",
     "text": [
      "1 1\n",
      "1 2\n",
      "1 3\n",
      "1 4\n",
      "2 1\n",
      "2 2\n",
      "2 3\n",
      "2 4\n",
      "3 1\n",
      "3 2\n",
      "3 3\n",
      "3 4\n",
      "4 1\n",
      "4 2\n",
      "4 3\n",
      "4 4\n"
     ]
    }
   ],
   "source": [
    "for i in range(1,5):\n",
    "    for j in range(1,5):\n",
    "     print(i,j)"
   ]
  },
  {
   "cell_type": "markdown",
   "metadata": {},
   "source": [
    "write a python program to find a area of circle"
   ]
  },
  {
   "cell_type": "code",
   "execution_count": 4,
   "metadata": {},
   "outputs": [
    {
     "name": "stdout",
     "output_type": "stream",
     "text": [
      "the area of circle with radius5.0 is 78.54\n"
     ]
    }
   ],
   "source": [
    "import math\n",
    "\n",
    "def area_of_circle(radius):\n",
    "    area = math.pi*(radius ** 2)\n",
    "    return area\n",
    "radius = float(input('enter the radius of the circle: '))\n",
    "\n",
    "area = area_of_circle(radius)\n",
    "\n",
    "print(f\"the area of circle with radius{radius} is {area:.2f}\")"
   ]
  },
  {
   "cell_type": "markdown",
   "metadata": {},
   "source": [
    "how to read multiple valuess from the keyboard ina single line"
   ]
  },
  {
   "cell_type": "code",
   "execution_count": 35,
   "metadata": {},
   "outputs": [
    {
     "ename": "TypeError",
     "evalue": "'str' object is not callable",
     "output_type": "error",
     "traceback": [
      "\u001b[1;31m---------------------------------------------------------------------------\u001b[0m",
      "\u001b[1;31mTypeError\u001b[0m                                 Traceback (most recent call last)",
      "Cell \u001b[1;32mIn[35], line 5\u001b[0m\n\u001b[0;32m      1\u001b[0m \u001b[38;5;66;03m# a,b = [int(x) for x in input('enter  numbers:').split()]\u001b[39;00m\n\u001b[0;32m      2\u001b[0m \u001b[38;5;66;03m# print('product is:',a*b)\u001b[39;00m\n\u001b[0;32m      3\u001b[0m \n\u001b[0;32m      4\u001b[0m \u001b[38;5;66;03m# Prompt the user to enter two numbers\u001b[39;00m\n\u001b[1;32m----> 5\u001b[0m a, b \u001b[38;5;241m=\u001b[39m [\u001b[38;5;28mint\u001b[39m(x) \u001b[38;5;28;01mfor\u001b[39;00m x \u001b[38;5;129;01min\u001b[39;00m \u001b[38;5;28;43minput\u001b[39;49m\u001b[43m(\u001b[49m\u001b[38;5;124;43m'\u001b[39;49m\u001b[38;5;124;43mEnter two numbers separated by a space: \u001b[39;49m\u001b[38;5;124;43m'\u001b[39;49m\u001b[43m)\u001b[49m\u001b[38;5;241m.\u001b[39msplit()]\n\u001b[0;32m      7\u001b[0m \u001b[38;5;66;03m# Calculate and print the product\u001b[39;00m\n\u001b[0;32m      8\u001b[0m \u001b[38;5;28mprint\u001b[39m(\u001b[38;5;124m'\u001b[39m\u001b[38;5;124mProduct is:\u001b[39m\u001b[38;5;124m'\u001b[39m, a \u001b[38;5;241m*\u001b[39m b)\n",
      "\u001b[1;31mTypeError\u001b[0m: 'str' object is not callable"
     ]
    }
   ],
   "source": [
    "# a,b = [int(x) for x in input('enter  numbers:').split()]\n",
    "# print('product is:',a*b)\n",
    "\n",
    "\n",
    "\n",
    "\n",
    "# Prompt the user to enter two numbers\n",
    "a, b = [int(x) for x in input('Enter two numbers separated by a space: ').split()]\n",
    "\n",
    "# Calculate and print the product\n",
    "print('Product is:', a * b)\n"
   ]
  },
  {
   "cell_type": "code",
   "execution_count": 42,
   "metadata": {},
   "outputs": [
    {
     "ename": "TypeError",
     "evalue": "'str' object is not callable",
     "output_type": "error",
     "traceback": [
      "\u001b[1;31m---------------------------------------------------------------------------\u001b[0m",
      "\u001b[1;31mTypeError\u001b[0m                                 Traceback (most recent call last)",
      "Cell \u001b[1;32mIn[42], line 1\u001b[0m\n\u001b[1;32m----> 1\u001b[0m a,b,c \u001b[38;5;241m=\u001b[39m [\u001b[38;5;28mint\u001b[39m(x) \u001b[38;5;28;01mfor\u001b[39;00m x \u001b[38;5;129;01min\u001b[39;00m \u001b[38;5;28;43minput\u001b[39;49m\u001b[43m(\u001b[49m\u001b[38;5;124;43m'\u001b[39;49m\u001b[38;5;124;43menter 3 numbers:\u001b[39;49m\u001b[38;5;124;43m'\u001b[39;49m\u001b[43m)\u001b[49m\u001b[38;5;241m.\u001b[39msplit()]\n\u001b[0;32m      2\u001b[0m \u001b[38;5;28mprint\u001b[39m(\u001b[38;5;124m'\u001b[39m\u001b[38;5;124mproduct of:\u001b[39m\u001b[38;5;124m'\u001b[39m,a\u001b[38;5;241m*\u001b[39mb\u001b[38;5;241m*\u001b[39mc)\n",
      "\u001b[1;31mTypeError\u001b[0m: 'str' object is not callable"
     ]
    }
   ],
   "source": [
    "a,b,c = [int(x) for x in input('enter 3 numbers:').split()]\n",
    "print('product of:',a*b*c)"
   ]
  },
  {
   "cell_type": "code",
   "execution_count": 6,
   "metadata": {},
   "outputs": [
    {
     "name": "stdout",
     "output_type": "stream",
     "text": [
      "60\n"
     ]
    }
   ],
   "source": [
    "x = eval('10+20+30')   # for eval parameter must be string \n",
    "print(x)\n"
   ]
  },
  {
   "cell_type": "markdown",
   "metadata": {},
   "source": [
    "using recursion method"
   ]
  },
  {
   "cell_type": "code",
   "execution_count": 38,
   "metadata": {},
   "outputs": [
    {
     "name": "stdout",
     "output_type": "stream",
     "text": [
      "120\n"
     ]
    }
   ],
   "source": [
    "def factorial(n):\n",
    "    # Base case: if n is 0 or 1, return 1\n",
    "    if n == 0 or n == 1:\n",
    "        return 1\n",
    "    else:\n",
    "        # Recursive case: multiply n by the factorial of n-1\n",
    "        return n * factorial(n - 1)\n",
    "\n",
    "# Test the function\n",
    "print(factorial(5))  # Output: 120\n"
   ]
  },
  {
   "cell_type": "code",
   "execution_count": 8,
   "metadata": {},
   "outputs": [
    {
     "name": "stdout",
     "output_type": "stream",
     "text": [
      "a 97\n",
      "a 97\n"
     ]
    }
   ],
   "source": [
    "a = 'hello world practice makes perfect'\n",
    "for i in range(len(a)):\n",
    "    b = ord(a[i])\n",
    "    if a[i] != ' ':\n",
    "        if b in range(65, 98):  # ASCII range for uppercase letters (65-90) and lowercase letters (97-122)\n",
    "            print(a[i], b)  # You can replace this with any desired operation\n"
   ]
  },
  {
   "cell_type": "code",
   "execution_count": null,
   "metadata": {},
   "outputs": [],
   "source": [
    "d ={1: 1, 2: 4, 3: 9}\n",
    "\n"
   ]
  },
  {
   "cell_type": "markdown",
   "metadata": {},
   "source": [
    "LAMBDA FUNCTION"
   ]
  },
  {
   "cell_type": "markdown",
   "metadata": {},
   "source": [
    "What is a Lambda Function?\n",
    "A lambda function is a small anonymous function defined using the lambda keyword. Unlike regular functions defined with def, lambda functions are typically used for short, throwaway functions that are not meant to be reused elsewhere.\n",
    "\n",
    "lambda: The keyword that indicates the start of a lambda function.\n",
    "arguments: The parameters the function takes, similar to those in regular functions.\n",
    "expression: A single expression that the function evaluates and returns. It is evaluated and returned without the need for a return statement.\n",
    "\n",
    "Anonymous: Lambda functions are anonymous, meaning they don’t have a name. You usually assign them to a variable.\n",
    "\n",
    "Single Expression: They can only contain a single expression. The expression is evaluated and returned.\n",
    "\n",
    "Short and Simple: They are meant for simple operations and are often used where you need a small function for a short period."
   ]
  },
  {
   "cell_type": "code",
   "execution_count": null,
   "metadata": {},
   "outputs": [],
   "source": [
    "# Define a lambda function to add two numbers\n",
    "add = lambda x, y: x + y\n",
    "\n",
    "# Use the lambda function\n",
    "print(add(2, 3))  # Output: 5\n"
   ]
  },
  {
   "cell_type": "markdown",
   "metadata": {},
   "source": [
    "difference between filter and map:\n",
    "\n",
    "Purpose: filter is for selecting elements that satisfy a condition, while map is for transforming elements.\n",
    "Return Type: Both return an iterator. You often convert them to lists or other collections to see the results.\n",
    "Function Requirements: filter uses a function that returns True or False. map uses a function that returns a transformed value.\n",
    "\n",
    "\n",
    "The issue with your code is that you're using the filter function, which expects a function that returns a boolean value (i.e., True or False). However, in your lambda function, n ** 2 returns a number, not a boolean. Therefore, all elements will be considered True (since non-zero numbers are considered True in a boolean context) and will be included in the result, but without actually squaring them."
   ]
  },
  {
   "cell_type": "markdown",
   "metadata": {},
   "source": [
    "1)square all element in a list"
   ]
  },
  {
   "cell_type": "code",
   "execution_count": 3,
   "metadata": {},
   "outputs": [
    {
     "name": "stdout",
     "output_type": "stream",
     "text": [
      "[1, 4, 9, 16, 25, 36, 49]\n"
     ]
    }
   ],
   "source": [
    "l = [1,2,3,4,5,6,7]\n",
    "squares = list(map(lambda n:n**2,l))\n",
    "print(squares)"
   ]
  },
  {
   "cell_type": "markdown",
   "metadata": {},
   "source": [
    "2)Filter Strings with Length Greater Than 3"
   ]
  },
  {
   "cell_type": "code",
   "execution_count": 5,
   "metadata": {},
   "outputs": [
    {
     "name": "stdout",
     "output_type": "stream",
     "text": [
      "['apple', 'elephant']\n"
     ]
    }
   ],
   "source": [
    "List= [\"apple\", \"bee\", \"cat\", \"dog\", \"elephant\"]\n",
    "\n",
    "length_list = list(filter(lambda n: len(n)> 3,List))\n",
    "print(length_list)"
   ]
  },
  {
   "cell_type": "markdown",
   "metadata": {},
   "source": [
    "3)Filter Numbers Greater Than a Given Value\n",
    "\n",
    "List: [10, 20, 30, 40, 50]\n",
    "Given Value: 25"
   ]
  },
  {
   "cell_type": "code",
   "execution_count": 6,
   "metadata": {},
   "outputs": [
    {
     "name": "stdout",
     "output_type": "stream",
     "text": [
      "[30, 40, 50]\n"
     ]
    }
   ],
   "source": [
    "List= [10, 20, 30, 40, 50]\n",
    "\n",
    "greater_no = list(filter(lambda n: n>25,List))\n",
    "print(greater_no)"
   ]
  },
  {
   "cell_type": "markdown",
   "metadata": {},
   "source": [
    "Filter Palindromes from a List of Strings"
   ]
  },
  {
   "cell_type": "code",
   "execution_count": 8,
   "metadata": {},
   "outputs": [
    {
     "name": "stdout",
     "output_type": "stream",
     "text": [
      "['level', 'madam', 'radar']\n"
     ]
    }
   ],
   "source": [
    "List= [\"level\", \"world\", \"madam\", \"python\", \"radar\"]\n",
    "\n",
    "palindromes = list(filter(lambda n:n==n[::-1], List))\n",
    "print(palindromes)"
   ]
  },
  {
   "cell_type": "markdown",
   "metadata": {},
   "source": [
    "# 3. witten to sort a liet without using sort and sorted list( built function)\n",
    "# and find the secondlargest number in a list.\n",
    "\n",
    "a = [5, 2, 7, 8, 1, 3, 8, 9, 13]"
   ]
  },
  {
   "cell_type": "markdown",
   "metadata": {},
   "source": [
    "sort without using sort function"
   ]
  },
  {
   "cell_type": "code",
   "execution_count": 39,
   "metadata": {},
   "outputs": [
    {
     "name": "stdout",
     "output_type": "stream",
     "text": [
      "[1, 2, 3, 5, 7, 8, 8, 9, 13]\n"
     ]
    }
   ],
   "source": [
    "\n",
    "a = [5, 2, 7, 8, 1, 3, 8, 9, 13]\n",
    "\n",
    "for i in range(len(a)):\n",
    "    for j in range(i):\n",
    "       if a[j]>a[j+1]:\n",
    "        a[j],a[j+1]= a[j+1],a[j]\n",
    "print(a)\n",
    "\n",
    "\n"
   ]
  },
  {
   "cell_type": "code",
   "execution_count": 22,
   "metadata": {},
   "outputs": [
    {
     "name": "stdout",
     "output_type": "stream",
     "text": [
      "{'k': 2, 'a': 2, 'r': 1}\n"
     ]
    }
   ],
   "source": [
    "str='kaarthik'\n",
    "\n",
    "#p={k : 2, a : 2, r : 1 }\n",
    "s = []\n",
    "d={}\n",
    "for i in str:\n",
    "    if i not in s:\n",
    "        s.append(i)\n",
    "\n",
    "for i in range(3):\n",
    "    count = str.count(s[i])\n",
    "    d[s[i]]=count\n",
    "    \n",
    "print(d)"
   ]
  },
  {
   "cell_type": "code",
   "execution_count": 30,
   "metadata": {},
   "outputs": [
    {
     "name": "stdout",
     "output_type": "stream",
     "text": [
      "{'k': 2, 'a': 2, 'r': 1}\n",
      "{'k': 2, 'a': 2, 'r': 1, 't': 1, 'h': 1, 'i': 1}\n"
     ]
    },
    {
     "ename": "TypeError",
     "evalue": "'str' object is not callable",
     "output_type": "error",
     "traceback": [
      "\u001b[1;31m---------------------------------------------------------------------------\u001b[0m",
      "\u001b[1;31mTypeError\u001b[0m                                 Traceback (most recent call last)",
      "Cell \u001b[1;32mIn[30], line 23\u001b[0m\n\u001b[0;32m     21\u001b[0m         d[i] \u001b[38;5;241m=\u001b[39m \u001b[38;5;241m1\u001b[39m\n\u001b[0;32m     22\u001b[0m \u001b[38;5;28mprint\u001b[39m(d)\n\u001b[1;32m---> 23\u001b[0m e \u001b[38;5;241m=\u001b[39m \u001b[38;5;28;43mstr\u001b[39;49m\u001b[43m(\u001b[49m\u001b[43md\u001b[49m\u001b[43m)\u001b[49m\n\u001b[0;32m     25\u001b[0m e\n",
      "\u001b[1;31mTypeError\u001b[0m: 'str' object is not callable"
     ]
    }
   ],
   "source": [
    "str = 'kaarthik'\n",
    "\n",
    "s = []\n",
    "d ={}\n",
    "for i in str:\n",
    "    if i not in s:\n",
    "        s.append(i)\n",
    "for i in range(3):\n",
    "    count = str.count(s[i])\n",
    "    d[s[i]]= count\n",
    "print(d)\n",
    "\n",
    "# s = 'abbbaaccd'\n",
    "s = 'kaarthik'\n",
    "d = {}\n",
    "e =''\n",
    "for i in s:\n",
    "    if i in d:\n",
    "        d[i] += 1\n",
    "    else:\n",
    "        d[i] = 1\n",
    "print(d)"
   ]
  },
  {
   "cell_type": "code",
   "execution_count": 26,
   "metadata": {},
   "outputs": [
    {
     "name": "stdout",
     "output_type": "stream",
     "text": [
      "{'a': 3, 'b': 3, 'c': 2, 'd': 1}\n"
     ]
    }
   ],
   "source": [
    "# inp = 'abaaabbcdd'  \n",
    "# s = []\n",
    "# d ={}\n",
    "# for i in inp:\n",
    "#     if i not in s:\n",
    "#         s.append(i)\n",
    "# for i in range(len(s)):\n",
    "#     count = inp.count(s[i])\n",
    "#     d[s[i]] = count\n",
    "# print(d)\n",
    "\n",
    "s = 'abbbaaccd'\n",
    "d = {}\n",
    "for i in s:\n",
    "    if i in d:\n",
    "        d[i] += 1\n",
    "    else:\n",
    "        d[i] = 1\n",
    "print(d)\n",
    "l = []\n",
    "for i in sorted(d):\n",
    "    l.append(i+str(d[i]))\n",
    "\n",
    "e = ''.join(l)\n",
    "\n",
    "print(e)\n",
    "\n"
   ]
  },
  {
   "cell_type": "code",
   "execution_count": 1,
   "metadata": {},
   "outputs": [
    {
     "name": "stdout",
     "output_type": "stream",
     "text": [
      "['a', 'b', 'c', 'd']\n",
      "4a3b4a4a4a3b3b1c2d2d\n"
     ]
    }
   ],
   "source": [
    "inp = 'abaaabbcdd'                     # whats wrong\n",
    "\n",
    "\n",
    "l =[]\n",
    "e =''\n",
    "\n",
    "for i in inp:\n",
    "    if i not in l:\n",
    "        l.append(i)\n",
    "print(l)\n",
    "for i in inp:\n",
    "    co = inp.count(i)\n",
    "    e += str(co)+i\n",
    "# for i in range(len(l)):\n",
    "#     count = count()\n",
    "#     e += str(count)+i\n",
    "print(e)\n",
    "\n",
    "# 'a4b3c3'"
   ]
  },
  {
   "cell_type": "code",
   "execution_count": 47,
   "metadata": {},
   "outputs": [
    {
     "data": {
      "text/plain": [
       "{'a', 'e', 'g', 'h', 'i', 's', 't', 'u'}"
      ]
     },
     "execution_count": 47,
     "metadata": {},
     "output_type": "execute_result"
    }
   ],
   "source": [
    "n = ['ashishgutte']\n",
    "s = set(n[0])\n",
    "s\n"
   ]
  },
  {
   "cell_type": "code",
   "execution_count": null,
   "metadata": {},
   "outputs": [],
   "source": [
    "def summ(*args):\n",
    "    \n",
    "    for i in args:\n",
    "        yield i\n",
    "t=summ(2,3,5,6,7,8,9,4)\n",
    "# next(t)\n",
    "p=list(t)\n",
    "p"
   ]
  },
  {
   "cell_type": "code",
   "execution_count": 1,
   "metadata": {},
   "outputs": [],
   "source": [
    "while True:\n",
    "    n = input('enter a name')\n",
    "    if n == 'brainworks':\n",
    "        break\n",
    "    else: \n",
    "        pass"
   ]
  },
  {
   "cell_type": "code",
   "execution_count": null,
   "metadata": {},
   "outputs": [],
   "source": [
    "s= [1,2,3,[3,4,2],5,6]\n",
    "\n",
    "s.pop(3)\n",
    "s.extend([3,4,2])\n",
    "s"
   ]
  },
  {
   "cell_type": "code",
   "execution_count": null,
   "metadata": {},
   "outputs": [],
   "source": [
    "class Animal:\n",
    "    pass\n",
    "\n",
    "class Dog(Animal):\n",
    "    pass\n",
    "\n",
    "d = Dog()\n",
    "print(isinstance(d, Dog))  # Output: True\n",
    "print(isinstance(d, Animal))  # Output: True\n"
   ]
  },
  {
   "cell_type": "code",
   "execution_count": null,
   "metadata": {},
   "outputs": [],
   "source": [
    "s = 'one two three'\n",
    "d = s.split()\n",
    "\n",
    "for i in d:\n",
    "    d[0] = d[0][::-1]\n",
    "    d[1] = d[1][::-1]\n",
    "    d[2] = d[2][::-1]\n",
    "\n",
    "d = d[0]+' ' + d[1]+' ' + d[2]+' '\n",
    "print(d)"
   ]
  },
  {
   "cell_type": "code",
   "execution_count": null,
   "metadata": {},
   "outputs": [],
   "source": [
    "s1='ravi'\n",
    "s2='teja'\n",
    "\n",
    "s3 =''\n",
    "for i in range(len(s1)):\n",
    "    for j in range(0,i+1):\n",
    "        if j == i:\n",
    "            s3 = s3+s1[i]+s2[j]\n",
    "print(s3)"
   ]
  }
 ],
 "metadata": {
  "kernelspec": {
   "display_name": "base",
   "language": "python",
   "name": "python3"
  },
  "language_info": {
   "codemirror_mode": {
    "name": "ipython",
    "version": 3
   },
   "file_extension": ".py",
   "mimetype": "text/x-python",
   "name": "python",
   "nbconvert_exporter": "python",
   "pygments_lexer": "ipython3",
   "version": "3.10.9"
  }
 },
 "nbformat": 4,
 "nbformat_minor": 2
}
